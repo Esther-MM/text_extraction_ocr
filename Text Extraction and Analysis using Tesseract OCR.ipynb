{
 "cells": [
  {
   "cell_type": "code",
   "execution_count": 1,
   "id": "fd639c39",
   "metadata": {},
   "outputs": [],
   "source": [
    "# Import necessary libraries\n",
    "import pytesseract\n",
    "from pytesseract import Output\n",
    "import PIL.Image\n",
    "import cv2"
   ]
  },
  {
   "cell_type": "code",
   "execution_count": 2,
   "id": "0dc39e16",
   "metadata": {},
   "outputs": [
    {
     "name": "stdout",
     "output_type": "stream",
     "text": [
      "What is ReGex?\n",
      "\n",
      "+@[a-zA-z]\n",
      "\n",
      "Part Il\n",
      "\n"
     ]
    }
   ],
   "source": [
    "#Verify with a clear image from a ppt if OCR works as intended\n",
    "# Set configuration for tesseract OCR\n",
    "# psm = Page Segmentation Mode, oem = OCR Engine Modes\n",
    "myconfig = r\"--psm 11 --oem 3\"\n",
    "\n",
    "text = pytesseract.image_to_string(PIL.Image.open(\"sample.png\"), config = myconfig)\n",
    "print(text)"
   ]
  },
  {
   "cell_type": "code",
   "execution_count": 3,
   "id": "daac7613",
   "metadata": {},
   "outputs": [
    {
     "name": "stdout",
     "output_type": "stream",
     "text": [
      "pac\n",
      "\n",
      "O-OPERATIVE,\n",
      "\n",
      "BANK OF KENYA\n",
      "\n",
      "te A\n",
      "\n",
      "zuku®\n",
      "\n",
      "Your health - Our priority\n",
      "\n",
      "DAILY & NATION\n",
      "\n",
      "KISS\n",
      "\n",
      "ID OEN\n",
      "\n",
      "Frank\n",
      "\n",
      "Knight\n",
      "\n",
      "<Safaricom\n",
      "\n",
      "EQUITY\n",
      "\n",
      "Bank fetssnee.cerea|\n",
      "\n",
      "Financial Partner\n",
      "\n",
      "GL,\n",
      "\n",
      "ia &\n",
      "\n",
      "Bamburi\n",
      "\n",
      "Parneencery\n",
      "\n",
      "g™\n",
      "\n",
      "J\n",
      "\n",
      "Great value always\n",
      "\n",
      "You need it, We've got it.\n",
      "\n",
      "NAKUMATT\n",
      "\n",
      "Quality* Value\n",
      "\n",
      "Bearonar\n",
      "\n",
      "Service + Variety * Lifeaty!:\n",
      "\n",
      "98.4\n",
      "\n",
      "eT hag,\n",
      "\n",
      "1\n",
      "\n",
      "Making the\n",
      "\n",
      "ference\n",
      "\n",
      "Contin\n",
      "\n",
      "a\n",
      "\n",
      "CO Kenya Airways a)\n",
      "\n",
      "t\n",
      "\n"
     ]
    }
   ],
   "source": [
    "# Set configuration for tesseract OCR\n",
    "\n",
    "myconfig = r\"--psm 11 --oem 3\"\n",
    "\n",
    "# Perform OCR on the entire image\n",
    "text = pytesseract.image_to_string(PIL.Image.open(\"brands.png\"), config=myconfig)\n",
    "print(text)"
   ]
  },
  {
   "cell_type": "code",
   "execution_count": 4,
   "id": "410b9383",
   "metadata": {},
   "outputs": [
    {
     "data": {
      "text/plain": [
       "-1"
      ]
     },
     "execution_count": 4,
     "metadata": {},
     "output_type": "execute_result"
    }
   ],
   "source": [
    "# Read the image for further processing\n",
    "\n",
    "# Set configuration for tesseract OCR with a different Page Segmentation Mode\n",
    "myconfig = r\"--psm 11 --oem 3\"\n",
    "\n",
    "img = cv2.imread(\"brands.png\")\n",
    "height, width, _ = img.shape\n",
    "\n",
    "# Get bounding boxes for each character in the image\n",
    "boxes = pytesseract.image_to_boxes(img, config = myconfig)\n",
    "\n",
    "# Uncomment the next line to print the bounding boxes information\n",
    "# print(boxes)\n",
    "\n",
    "# Draw rectangles around each character based on the bounding box information\n",
    "for box in boxes.splitlines():\n",
    "    box = box.split(\" \")\n",
    "    img = cv2.rectangle(img, \n",
    "                        (int(box[1]), height - int(box[2])), (int(box[3]), height - int(box[4])), (0, 255, 0), 2) \n",
    "\n",
    "# Display the image with bounding boxes\n",
    "cv2.imshow(\"img\", img)\n",
    "cv2.waitKey(0)"
   ]
  },
  {
   "cell_type": "code",
   "execution_count": 5,
   "id": "b9a54c11",
   "metadata": {},
   "outputs": [
    {
     "name": "stdout",
     "output_type": "stream",
     "text": [
      "['', '', '', '', 'uz', '@', '', '', '', 'Oi', 'Beal', '-', 'oa', 'PFT', '', '', '', 'YAILY!', '|NAIION', '', '', '', '“eee', '', '', '', 'frank', 'ba', '', '', '', 'KENYA', 'TEA', 'PACKERS', '', '', '', 'iio', '', '', '', 'Bank', 'SaRareist', '', '', '', 'Se', '', '', '', 'Cit', 'ela', '', '', '', '\\\\', '', '', '', 'SEKENA', 'Hoyers', '', '', '', 'pr', 'EE', 'TS', '', '', '', '‘sprvabanairl', '', '', '', '>»', '', '', '', 'BANK', '', '', '', '@KenolKobil®', '', '', '', '‘Nairobi', 'eptist', 'Church', '', '', '', 'ne', '', '', '', '(yea', '', '', '', 'Aldd', 'Clay', '', '', '', 'ia', '', '', '', 'Mou', 'ried', 'ft,', 'Wierive', '', '', '', 'reed', '', '', '', 'pt', 'it)', '', '', '', 'NAKUMATT', '', '', '', '\"', '', '', '', 'COCKE', '', '', '', 'Cy)', '(A', '', '', '', 'wm)', '', '', '', 'oe', 'ten,', '', '', '', 'Gite', '', '', '', '(kk)', 'Keriya', 'Airways', '', '', '', 'G', '', '', '', 'raf)', '', '', '', 'Pix:']\n"
     ]
    }
   ],
   "source": [
    "# Set configuration for tesseract OCR with a different Page Segmentation Mode\n",
    "myconfig = r\"--psm 11 --oem 3\"\n",
    "\n",
    "# Perform OCR to get information about each word in the image\n",
    "data = pytesseract.image_to_data(img, config=myconfig, output_type=Output.DICT)\n",
    "\n",
    "# Print the text extracted from each word\n",
    "print(data['text'])"
   ]
  },
  {
   "cell_type": "code",
   "execution_count": 6,
   "id": "ea7e4915",
   "metadata": {},
   "outputs": [
    {
     "data": {
      "text/plain": [
       "-1"
      ]
     },
     "execution_count": 6,
     "metadata": {},
     "output_type": "execute_result"
    }
   ],
   "source": [
    "# Set configuration for tesseract OCR with another Page Segmentation Mode\n",
    "myconfig = r\"--psm 11 --oem 3\"\n",
    "\n",
    "# Perform OCR to get information about each block of text in the image\n",
    "data = pytesseract.image_to_data(img, config = myconfig, output_type = Output.DICT)\n",
    "\n",
    "# Draw rectangles around each block of text with confidence > 80%\n",
    "amount_boxes = len(data['text'])\n",
    "for i in range(amount_boxes):\n",
    "    if float(data['conf'][i]) > 80:\n",
    "        (x, y, width, height) = (data['left'][i], data['top'][i], data['width'][i], data['height'][i])\n",
    "        img = cv2.rectangle(img, (x, y), (x + width, y + height), (0, 255, 0), 2 )\n",
    "        img = cv2.putText(img, data['text'][i], (x, y + height + 20), cv2.FONT_HERSHEY_SIMPLEX, 0.7, (0, 255, 0), 2, \n",
    "                          cv2.LINE_AA)\n",
    "\n",
    "# Display the image with bounding boxes around text blocks\n",
    "cv2.imshow(\"img\", img)\n",
    "cv2.waitKey(0)"
   ]
  },
  {
   "cell_type": "code",
   "execution_count": null,
   "id": "cd8b3afc",
   "metadata": {},
   "outputs": [],
   "source": []
  }
 ],
 "metadata": {
  "kernelspec": {
   "display_name": "Python 3 (ipykernel)",
   "language": "python",
   "name": "python3"
  },
  "language_info": {
   "codemirror_mode": {
    "name": "ipython",
    "version": 3
   },
   "file_extension": ".py",
   "mimetype": "text/x-python",
   "name": "python",
   "nbconvert_exporter": "python",
   "pygments_lexer": "ipython3",
   "version": "3.10.9"
  }
 },
 "nbformat": 4,
 "nbformat_minor": 5
}
